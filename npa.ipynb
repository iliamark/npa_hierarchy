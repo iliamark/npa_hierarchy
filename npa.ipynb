{
 "cells": [
  {
   "cell_type": "markdown",
   "id": "bc764198",
   "metadata": {},
   "source": [
    "# Imports"
   ]
  },
  {
   "cell_type": "code",
   "execution_count": 1,
   "id": "339e08f2-792f-49c5-a787-dfd24432f3e6",
   "metadata": {},
   "outputs": [],
   "source": [
    "import numpy as np\n",
    "import cvxpy as cp\n",
    "from classes import NpaHierarchy\n",
    "from itertools import product as iter_product\n",
    "from Distribution import Distribution"
   ]
  },
  {
   "cell_type": "markdown",
   "id": "b773194e",
   "metadata": {},
   "source": [
    "# Bell Scenario Definition"
   ]
  },
  {
   "cell_type": "code",
   "execution_count": 48,
   "id": "22d71043",
   "metadata": {},
   "outputs": [],
   "source": [
    "N = 2\n",
    "NA, NB, NX, NM, = (N,) * 4\n",
    "\n",
    "bell_scenario=(NA,NB,NX,NM)"
   ]
  },
  {
   "cell_type": "code",
   "execution_count": 49,
   "id": "8ba0eb3c",
   "metadata": {},
   "outputs": [],
   "source": [
    "A = np.array(range(NA))\n",
    "X = np.array(range(NX))\n",
    "B = np.array(range(NB))\n",
    "M = np.array(range(NM))"
   ]
  },
  {
   "cell_type": "markdown",
   "id": "e5d40181",
   "metadata": {},
   "source": [
    "# Distribution generator\n",
    "\n",
    "for this particular one, we pick the optimal non-signaling distribution (not a quantum one) for the CHSH game.\n",
    "$$\n",
    "    p(a,b|x,m)= \\frac{1}{2}\\mathbb{1}_{a\\oplus b = x\\cdot m}\n",
    "$$"
   ]
  },
  {
   "cell_type": "code",
   "execution_count": 50,
   "id": "4ef83a44",
   "metadata": {},
   "outputs": [],
   "source": [
    "vals_perfect = np.zeros(shape=(NA,NB,NX,NM))\n",
    "for a,b,x,m in iter_product(A,B,X,M):\n",
    "    lhs = (a+b)%2\n",
    "    rhs = x*m\n",
    "    val = 0.5*(lhs==rhs)\n",
    "    vals_perfect[a,b,x,m] = val\n",
    "p_perfect = Distribution(vals_perfect, bell_scenario)"
   ]
  },
  {
   "cell_type": "markdown",
   "id": "22c2354d",
   "metadata": {},
   "source": [
    "## Local distributions"
   ]
  },
  {
   "cell_type": "code",
   "execution_count": 51,
   "id": "179af813",
   "metadata": {},
   "outputs": [],
   "source": [
    "vals = np.zeros(shape=(NA,NB,NX,NM))\n",
    "for a,b,x,m in iter_product(A,B,X,M):\n",
    "    vals[a,b,x,m] = 0.5*(a==x)*(b==m)+0.5*(a==x)*(b!=m)\n",
    "    # vals[a,b,x,m] = 0.25\n",
    "p_local = Distribution(vals, bell_scenario)"
   ]
  },
  {
   "cell_type": "markdown",
   "id": "0a7cc20b",
   "metadata": {},
   "source": [
    "## Quantum distributions"
   ]
  },
  {
   "cell_type": "code",
   "execution_count": 52,
   "id": "c8fa095e",
   "metadata": {},
   "outputs": [],
   "source": [
    "omega = np.cos(np.pi/8)**2\n",
    "vals = np.zeros(shape=(NA,NB,NX,NM))\n",
    "for a,b,x,m in iter_product(A,B,X,M):\n",
    "    if x == 2 or m == 2:\n",
    "        vals[a,b,x,m] = 0\n",
    "    if x*m:\n",
    "        vals[a,b,x,m] = 0.5*(a != b)*(2*omega - 1) + 0.5*(1 - omega)\n",
    "    else:\n",
    "        vals[a,b,x,m] = 0.5*(a == b)*(2*omega - 1) + 0.5*(1 - omega)\n",
    "p_quantum = Distribution(vals, bell_scenario)"
   ]
  },
  {
   "cell_type": "markdown",
   "id": "a179efca",
   "metadata": {},
   "source": [
    "For the first step of the NPA hierarchy, the $\\Gamma$ matrix has the following form.\n",
    "$$\\Gamma\\left(\\mathcal{P}\\right)=\\left(\\begin{array}{ccccccccc}\n",
    "\\overset{\\left(\\perp\\right)}{\\overbrace{1}} & \\overset{\\left(a=0,x=0\\right)}{\\overbrace{\\Pr\\left(a|x\\right)}} & \\overset{\\left(a=1,x=0\\right)}{\\overbrace{\\Pr\\left(a|x\\right)}} & \\overset{\\left(a=0,x=1\\right)}{\\overbrace{\\Pr\\left(a|x\\right)}} & \\overset{\\left(a=1,x=1\\right)}{\\overbrace{\\Pr\\left(a|x\\right)}} & \\overset{\\left(b=0,m=0\\right)}{\\overbrace{\\Pr\\left(b|m\\right)}} & \\overset{\\left(b=1,m=0\\right)}{\\overbrace{\\Pr\\left(b|m\\right)}} & \\overset{\\left(b=0,m=1\\right)}{\\overbrace{\\Pr\\left(b|m\\right)}} & \\overset{\\left(b=1,m=1\\right)}{\\overbrace{\\Pr\\left(b|m\\right)}}\\\\\n",
    " & \\Pr\\left(a|x\\right) & 0 & ? & ? & \\Pr\\left(a,b|x,m\\right) & \\Pr\\left(a,b|x,m\\right) & \\Pr\\left(a,b|x,m\\right) & \\Pr\\left(a,b|x,m\\right)\\\\\n",
    " &  & \\Pr\\left(a|x\\right) & ? & ? & \\Pr\\left(a,b|x,m\\right) & \\Pr\\left(a,b|x,m\\right) & \\Pr\\left(a,b|x,m\\right) & \\Pr\\left(a,b|x,m\\right)\\\\\n",
    " &  &  & \\Pr\\left(a|x\\right) & 0 & \\Pr\\left(a,b|x,m\\right) & \\Pr\\left(a,b|x,m\\right) & \\Pr\\left(a,b|x,m\\right) & \\Pr\\left(a,b|x,m\\right)\\\\\n",
    " &  &  &  & \\Pr\\left(a|x\\right) & \\Pr\\left(a,b|x,m\\right) & \\Pr\\left(a,b|x,m\\right) & \\Pr\\left(a,b|x,m\\right) & \\Pr\\left(a,b|x,m\\right)\\\\\n",
    " &  &  &  &  & \\Pr\\left(b|m\\right) & 0 & ? & ?\\\\\n",
    " &  &  &  &  &  & \\Pr\\left(b|m\\right) & ? & ?\\\\\n",
    " &  &  &  &  &  &  & \\Pr\\left(b|m\\right) & 0\\\\\n",
    " &  &  &  &  &  &  &  & \\Pr\\left(b|m\\right)\n",
    "\\end{array}\\right)$$"
   ]
  },
  {
   "cell_type": "code",
   "execution_count": 57,
   "id": "dccdcdf5",
   "metadata": {},
   "outputs": [],
   "source": [
    "npa = NpaHierarchy(bell_scenario, 5)"
   ]
  },
  {
   "cell_type": "code",
   "execution_count": 54,
   "id": "e97f3f4a",
   "metadata": {},
   "outputs": [],
   "source": [
    "gamma, variables = npa.feasability(p_perfect)\n",
    "mu_gamma = cp.Variable()"
   ]
  },
  {
   "cell_type": "code",
   "execution_count": 55,
   "id": "5e7c930b",
   "metadata": {},
   "outputs": [],
   "source": [
    "gamma_bmat = cp.bmat(gamma)\n",
    "I = np.eye(len(gamma), len(gamma))\n",
    "constraints = list()\n",
    "# constraints = [variables[key] >= 0 for key in variables]\n",
    "constraints += [gamma_bmat - mu_gamma*I >> 0]"
   ]
  },
  {
   "cell_type": "code",
   "execution_count": 56,
   "id": "dc55455e",
   "metadata": {},
   "outputs": [
    {
     "data": {
      "text/plain": [
       "3.02582333168152e-06"
      ]
     },
     "execution_count": 56,
     "metadata": {},
     "output_type": "execute_result"
    }
   ],
   "source": [
    "objective = cp.Maximize(mu_gamma)\n",
    "problem = cp.Problem(objective, constraints)\n",
    "problem.solve()\n"
   ]
  },
  {
   "cell_type": "code",
   "execution_count": null,
   "id": "a6afbe01",
   "metadata": {},
   "outputs": [],
   "source": []
  }
 ],
 "metadata": {
  "kernelspec": {
   "display_name": "Python 3 (ipykernel)",
   "language": "python",
   "name": "python3"
  },
  "language_info": {
   "codemirror_mode": {
    "name": "ipython",
    "version": 3
   },
   "file_extension": ".py",
   "mimetype": "text/x-python",
   "name": "python",
   "nbconvert_exporter": "python",
   "pygments_lexer": "ipython3",
   "version": "3.9.12"
  }
 },
 "nbformat": 4,
 "nbformat_minor": 5
}
