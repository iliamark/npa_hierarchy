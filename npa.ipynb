{
 "cells": [
  {
   "cell_type": "markdown",
   "id": "bc764198",
   "metadata": {},
   "source": [
    "# Imports"
   ]
  },
  {
   "cell_type": "code",
   "execution_count": 1,
   "id": "339e08f2-792f-49c5-a787-dfd24432f3e6",
   "metadata": {},
   "outputs": [],
   "source": [
    "import numpy as np\n",
    "import matplotlib.pyplot as plt\n",
    "import cvxpy as cp\n",
    "from numpy.linalg import matrix_power\n",
    "from classes import Distribution, Operator, NpaOperator"
   ]
  },
  {
   "cell_type": "markdown",
   "id": "b773194e",
   "metadata": {},
   "source": [
    "# Bell Scenario Definition"
   ]
  },
  {
   "cell_type": "code",
   "execution_count": 2,
   "id": "22d71043",
   "metadata": {},
   "outputs": [],
   "source": [
    "N = 2\n",
    "\n",
    "NA = N\n",
    "NB = N\n",
    "NX = N\n",
    "NM = N\n",
    "\n",
    "bell_scenario=(NA,NB,NX,NM)\n",
    "\n",
    "A = np.array(range(NA))\n",
    "X = np.array(range(NX))\n",
    "B = np.array(range(NB))\n",
    "M = np.array(range(NM))"
   ]
  },
  {
   "cell_type": "markdown",
   "id": "e5d40181",
   "metadata": {},
   "source": [
    "# Distribution generator\n",
    "\n",
    "for this particular one, we pick the optimal non-signaling distribution (not a quantum one) for the CHSH game.\n",
    "$$\n",
    "    p(a,b|x,m)= \\frac{1}{2}\\mathbb{1}_{a\\oplus b = x\\cdot m}\n",
    "$$"
   ]
  },
  {
   "cell_type": "code",
   "execution_count": 3,
   "id": "4ef83a44",
   "metadata": {},
   "outputs": [],
   "source": [
    "vals = np.zeros(shape=(NA,NB,NX,NM))\n",
    "for x in X:\n",
    "    for m in M:\n",
    "        for a in A:\n",
    "            for b in B:\n",
    "                lhs = (a+b)%2\n",
    "                rhs = x*m\n",
    "                val = 0.5*(lhs==rhs)\n",
    "                vals[a,b,x,m] = val\n",
    "p_perfect = Distribution(vals, bell_scenario)"
   ]
  },
  {
   "cell_type": "markdown",
   "id": "22c2354d",
   "metadata": {},
   "source": [
    "## Local distributions"
   ]
  },
  {
   "cell_type": "code",
   "execution_count": 4,
   "id": "179af813",
   "metadata": {},
   "outputs": [],
   "source": [
    "vals = np.zeros(shape=(NA,NB,NX,NM))\n",
    "for x in X:\n",
    "    for m in M:\n",
    "        for a in A:\n",
    "            for b in B:\n",
    "                vals[a,b,x,m] = (a==x)*(b==m)\n",
    "                vals[a,b,x,m] = 0.25\n",
    "p_local = Distribution(vals, bell_scenario)"
   ]
  },
  {
   "cell_type": "markdown",
   "id": "0a7cc20b",
   "metadata": {},
   "source": [
    "## Quantum distributions"
   ]
  },
  {
   "cell_type": "code",
   "execution_count": 5,
   "id": "c8fa095e",
   "metadata": {},
   "outputs": [],
   "source": [
    "omega = np.cos(np.pi/8)**2\n",
    "vals = np.zeros(shape=(NA,NB,NX,NM))\n",
    "for x in X:\n",
    "    for m in M:\n",
    "        for a in A:\n",
    "            for b in B:\n",
    "                if x*m:\n",
    "                    vals[a,b,x,m] = 0.5*(a != b)*(2*omega - 1) + 0.5*(1 - omega)\n",
    "                else:\n",
    "                    vals[a,b,x,m] = 0.5*(a == b)*(2*omega - 1) + 0.5*(1 - omega)\n",
    "\n",
    "p_quantum = Distribution(vals, bell_scenario)"
   ]
  },
  {
   "cell_type": "markdown",
   "id": "a179efca",
   "metadata": {},
   "source": [
    "For the first step of the NPA hierarchy, the $\\Gamma$ matrix has the following form.\n",
    "$$\\Gamma\\left(\\mathcal{P}\\right)=\\left(\\begin{array}{ccccccccc}\n",
    "\\overset{\\left(\\perp\\right)}{\\overbrace{1}} & \\overset{\\left(a=0,x=0\\right)}{\\overbrace{\\Pr\\left(a|x\\right)}} & \\overset{\\left(a=1,x=0\\right)}{\\overbrace{\\Pr\\left(a|x\\right)}} & \\overset{\\left(a=0,x=1\\right)}{\\overbrace{\\Pr\\left(a|x\\right)}} & \\overset{\\left(a=1,x=1\\right)}{\\overbrace{\\Pr\\left(a|x\\right)}} & \\overset{\\left(b=0,m=0\\right)}{\\overbrace{\\Pr\\left(b|m\\right)}} & \\overset{\\left(b=1,m=0\\right)}{\\overbrace{\\Pr\\left(b|m\\right)}} & \\overset{\\left(b=0,m=1\\right)}{\\overbrace{\\Pr\\left(b|m\\right)}} & \\overset{\\left(b=1,m=1\\right)}{\\overbrace{\\Pr\\left(b|m\\right)}}\\\\\n",
    " & \\Pr\\left(a|x\\right) & 0 & ? & ? & \\Pr\\left(a,b|x,m\\right) & \\Pr\\left(a,b|x,m\\right) & \\Pr\\left(a,b|x,m\\right) & \\Pr\\left(a,b|x,m\\right)\\\\\n",
    " &  & \\Pr\\left(a|x\\right) & ? & ? & \\Pr\\left(a,b|x,m\\right) & \\Pr\\left(a,b|x,m\\right) & \\Pr\\left(a,b|x,m\\right) & \\Pr\\left(a,b|x,m\\right)\\\\\n",
    " &  &  & \\Pr\\left(a|x\\right) & 0 & \\Pr\\left(a,b|x,m\\right) & \\Pr\\left(a,b|x,m\\right) & \\Pr\\left(a,b|x,m\\right) & \\Pr\\left(a,b|x,m\\right)\\\\\n",
    " &  &  &  & \\Pr\\left(a|x\\right) & \\Pr\\left(a,b|x,m\\right) & \\Pr\\left(a,b|x,m\\right) & \\Pr\\left(a,b|x,m\\right) & \\Pr\\left(a,b|x,m\\right)\\\\\n",
    " &  &  &  &  & \\Pr\\left(b|m\\right) & 0 & ? & ?\\\\\n",
    " &  &  &  &  &  & \\Pr\\left(b|m\\right) & ? & ?\\\\\n",
    " &  &  &  &  &  &  & \\Pr\\left(b|m\\right) & 0\\\\\n",
    " &  &  &  &  &  &  &  & \\Pr\\left(b|m\\right)\n",
    "\\end{array}\\right)$$"
   ]
  },
  {
   "cell_type": "code",
   "execution_count": 6,
   "id": "20a23ee7",
   "metadata": {},
   "outputs": [],
   "source": [
    "mu_vec = [cp.Variable() for _ in range(8)]\n",
    "mu_gamma = cp.Variable()"
   ]
  },
  {
   "cell_type": "code",
   "execution_count": 7,
   "id": "d11836e4",
   "metadata": {},
   "outputs": [],
   "source": [
    "p = (p_quantum * 1)\n",
    "Γ = cp.bmat([[1, p.marginal(0,0,0), p.marginal(1,0,0), p.marginal(0,1,0), p.marginal(1,1,0), p.marginal(0,0,1), p.marginal(1,0,1), p.marginal(0,1,1), p.marginal(1,1,1)]\n",
    "            ,[p.marginal(0,0,0), p.marginal(0,0,0), 0, mu_vec[0], mu_vec[1], p(0,0,0,0), p(0,1,0,0), p(0,0,0,1), p(0,1,0,1)]\n",
    "            ,[p.marginal(1,0,0), 0, p.marginal(1,0,0), mu_vec[2], mu_vec[3], p(1,0,0,0), p(1,1,0,0), p(1,0,0,1), p(1,1,0,1)]\n",
    "            ,[p.marginal(0,1,0), mu_vec[0], mu_vec[2], p.marginal(0,1,0), 0, p(0,0,1,0), p(0,1,1,0), p(0,0,1,1), p(0,1,1,1)]\n",
    "            ,[p.marginal(1,1,0), mu_vec[1], mu_vec[3], 0, p.marginal(1,1,0), p(1,0,1,0), p(1,1,1,0), p(1,0,1,1), p(1,1,1,1)]\n",
    "            ,[p.marginal(0,0,1), p(0,0,0,0), p(1,0,0,0), p(0,0,1,0), p(1,0,1,0), p.marginal(0,0,1), 0, mu_vec[4], mu_vec[5]]\n",
    "            ,[p.marginal(1,0,1), p(0,1,0,0), p(1,1,0,0), p(0,1,1,0), p(1,1,1,0), 0, p.marginal(1,0,1), mu_vec[6], mu_vec[7]]\n",
    "            ,[p.marginal(0,1,1), p(0,0,0,1), p(1,0,0,1), p(0,0,1,1), p(1,0,1,1), mu_vec[4], mu_vec[6], p.marginal(0,1,1), 0]\n",
    "            ,[p.marginal(1,1,1), p(0,1,0,1), p(1,1,0,1), p(0,1,1,1), p(1,1,1,1), mu_vec[5], mu_vec[7], 0, p.marginal(1,1,1)]  ])\n",
    "\n",
    "I = np.eye(9, 9)"
   ]
  },
  {
   "cell_type": "code",
   "execution_count": 8,
   "id": "3f4f4048",
   "metadata": {},
   "outputs": [],
   "source": [
    "constraints = list()\n",
    "# constraints = [mu >= 0 for mu in mu_vec]\n",
    "constraints += [Γ - mu_gamma * I >> 0]"
   ]
  },
  {
   "cell_type": "code",
   "execution_count": 9,
   "id": "bc1651fd",
   "metadata": {},
   "outputs": [
    {
     "data": {
      "text/plain": [
       "3.709589349745165e-08"
      ]
     },
     "execution_count": 9,
     "metadata": {},
     "output_type": "execute_result"
    }
   ],
   "source": [
    "objective = cp.Maximize(mu_gamma)\n",
    "problem = cp.Problem(objective, constraints)\n",
    "problem.solve()\n"
   ]
  },
  {
   "cell_type": "code",
   "execution_count": 10,
   "id": "2178d93b",
   "metadata": {},
   "outputs": [],
   "source": [
    "def npa_operator_generator(depth):\n",
    "    npa_entries = list()\n",
    "    def recursive_npa_entry(cur_depth, cur_entry, entry_list):\n",
    "        if cur_depth == 0:\n",
    "            return entry_list.append(cur_entry)\n",
    "        else:\n",
    "            for x in X:\n",
    "                for a in A:\n",
    "                    new_entry = cur_entry @ NpaOperator(Operator((a,x)), Operator.identity())\n",
    "                    recursive_npa_entry(cur_depth - 1, new_entry, entry_list)\n",
    "            for m in M:\n",
    "                for b in B:\n",
    "                    new_entry = cur_entry @ NpaOperator(Operator.identity(), Operator((b,m)))\n",
    "                    recursive_npa_entry(cur_depth - 1, new_entry, entry_list)\n",
    "    recursive_npa_entry(depth, NpaOperator(Operator.identity(), Operator.identity()), npa_entries)\n",
    "    return npa_entries\n",
    "\n",
    "def remove_duplicates(lst):\n",
    "    new_lst = []\n",
    "    for item in lst:\n",
    "        if item not in new_lst:\n",
    "            new_lst.append(item)\n",
    "    return new_lst\n",
    "\n"
   ]
  },
  {
   "cell_type": "code",
   "execution_count": 11,
   "id": "a5813780",
   "metadata": {},
   "outputs": [],
   "source": [
    "npa_hierarchy_depth = 1\n",
    "npa_operators = list()\n",
    "for i in range(npa_hierarchy_depth + 1):\n",
    "    npa_operators += remove_duplicates(npa_operator_generator(i))"
   ]
  },
  {
   "cell_type": "code",
   "execution_count": 12,
   "id": "0739dbcc",
   "metadata": {},
   "outputs": [],
   "source": [
    "existing_gamma_variables = dict()\n",
    "for i in range(5):\n",
    "    existing_gamma_variables[i] = f\"{i}\""
   ]
  },
  {
   "cell_type": "code",
   "execution_count": 13,
   "id": "fd1be67a",
   "metadata": {},
   "outputs": [],
   "source": [
    "npa_operator_count = len(npa_operators)\n",
    "gamma_matrix_entries = list()\n",
    "for i in range(npa_operator_count):\n",
    "    gamma_row = list()\n",
    "    for j in range(npa_operator_count):\n",
    "        gamma_row.append(npa_operators[i] @ npa_operators[j])\n",
    "    gamma_matrix_entries.append(gamma_row)"
   ]
  },
  {
   "cell_type": "code",
   "execution_count": 19,
   "id": "970ad80b",
   "metadata": {},
   "outputs": [],
   "source": [
    "class NpaHierarchy:\n",
    "    def __init__(self, bell_scenario, npa_depth):\n",
    "        if not isinstance(bell_scenario, tuple) or len(bell_scenario) != 4 or not all(isinstance(n, int) and n > 0 for n in bell_scenario):\n",
    "            raise ValueError(\"bell_scenario must be a tuple of 4 positive integers\")\n",
    "        if not isinstance(npa_depth, int) or npa_depth <= 0:\n",
    "            raise ValueError(\"npa_depth must be a positive integer\")\n",
    "        self.bell_scenario = bell_scenario\n",
    "        NA,NB,NX,NM = self.bell_scenario\n",
    "        self.npa_depth = npa_depth\n",
    "        self.A = np.array(range(NA))\n",
    "        self.B = np.array(range(NB))\n",
    "        self.X = np.array(range(NX))\n",
    "        self.M = np.array(range(NM))\n",
    "        self.npa_operators = self.npa_operator_generator()\n",
    "        self.gamma_operator_matrix = self.npa_gamma_matrix_generator()\n",
    "\n",
    "    def npa_operator_generator(self):\n",
    "        npa_entries = list()\n",
    "        def recursive_npa_entry(cur_depth, cur_entry, entry_list):\n",
    "            if cur_depth == 0:\n",
    "                return entry_list.append(cur_entry)\n",
    "            else:\n",
    "                for x in self.X:\n",
    "                    for a in self.A:\n",
    "                        new_entry = cur_entry @ NpaOperator(Operator((a,x)), Operator.identity())\n",
    "                        recursive_npa_entry(cur_depth - 1, new_entry, entry_list)\n",
    "                for m in self.M:\n",
    "                    for b in self.B:\n",
    "                        new_entry = cur_entry @ NpaOperator(Operator.identity(), Operator((b,m)))\n",
    "                        recursive_npa_entry(cur_depth - 1, new_entry, entry_list)\n",
    "        for i in range(self.npa_depth + 1):\n",
    "            recursive_npa_entry(i, NpaOperator(Operator.identity(), Operator.identity()), npa_entries)\n",
    "        return NpaHierarchy._remove_duplicates(npa_entries) \n",
    "    \n",
    "    @staticmethod\n",
    "    def _remove_duplicates(lst):\n",
    "        new_lst = []\n",
    "        for item in lst:\n",
    "            if item not in new_lst:\n",
    "                new_lst.append(item)\n",
    "        return new_lst\n",
    "    \n",
    "    def npa_gamma_matrix_generator(self):\n",
    "        npa_operator_count = len(self.npa_operators)\n",
    "        gamma_matrix_entries = list()\n",
    "        for i in range(npa_operator_count):\n",
    "            gamma_row = list()\n",
    "            for j in range(npa_operator_count):\n",
    "                gamma_row.append(self.npa_operators[i] @ self.npa_operators[j])\n",
    "            gamma_matrix_entries.append(gamma_row)\n",
    "        return gamma_matrix_entries\n",
    "    \n",
    "    def feasability(self, distribution):\n",
    "        gamma_matrix_instance = list()\n",
    "        variable_dict = dict()\n",
    "        for i in range(len(self.gamma_operator_matrix)):\n",
    "            gamma_matrix_instance_row = list()\n",
    "            for j in range(len(self.gamma_operator_matrix[i])):\n",
    "                current_operator = self.gamma_operator_matrix[i][j]\n",
    "                if current_operator.is_variable():\n",
    "                    if current_operator.__str__() in variable_dict:\n",
    "                        current_value = variable_dict[current_operator.__str__()]\n",
    "                    elif current_operator.conj().__str__() in variable_dict:\n",
    "                        current_value = variable_dict[current_operator.conj().__str__()]\n",
    "                    else:\n",
    "                        current_value = cp.Variable()\n",
    "                        variable_dict[current_operator.__str__()] = current_value\n",
    "                else:\n",
    "                    current_value = current_operator.evaluate(distribution)\n",
    "                gamma_matrix_instance_row.append(current_value)\n",
    "            gamma_matrix_instance.append(gamma_matrix_instance_row)\n",
    "        return gamma_matrix_instance, variable_dict\n",
    "        \n",
    "        \n",
    "        "
   ]
  },
  {
   "cell_type": "code",
   "execution_count": 23,
   "id": "dccdcdf5",
   "metadata": {},
   "outputs": [],
   "source": [
    "npa = NpaHierarchy(bell_scenario, 1)"
   ]
  },
  {
   "cell_type": "code",
   "execution_count": 24,
   "id": "e97f3f4a",
   "metadata": {},
   "outputs": [],
   "source": [
    "gamma, variable = npa.feasability(p_local)"
   ]
  },
  {
   "cell_type": "code",
   "execution_count": 26,
   "id": "5e7c930b",
   "metadata": {},
   "outputs": [
    {
     "data": {
      "text/plain": [
       "[[1, 0.5, 0.5, 0.5, 0.5, 0.5, 0.5, 0.5, 0.5],\n",
       " [0.5, 0.5, 0, Variable(()), Variable(()), 0.25, 0.25, 0.25, 0.25],\n",
       " [0.5, 0, 0.5, Variable(()), Variable(()), 0.25, 0.25, 0.25, 0.25],\n",
       " [0.5, Variable(()), Variable(()), 0.5, 0, 0.25, 0.25, 0.25, 0.25],\n",
       " [0.5, Variable(()), Variable(()), 0, 0.5, 0.25, 0.25, 0.25, 0.25],\n",
       " [0.5, 0.25, 0.25, 0.25, 0.25, 0.5, 0, Variable(()), Variable(())],\n",
       " [0.5, 0.25, 0.25, 0.25, 0.25, 0, 0.5, Variable(()), Variable(())],\n",
       " [0.5, 0.25, 0.25, 0.25, 0.25, Variable(()), Variable(()), 0.5, 0],\n",
       " [0.5, 0.25, 0.25, 0.25, 0.25, Variable(()), Variable(()), 0, 0.5]]"
      ]
     },
     "execution_count": 26,
     "metadata": {},
     "output_type": "execute_result"
    }
   ],
   "source": [
    "gamma"
   ]
  },
  {
   "cell_type": "code",
   "execution_count": null,
   "id": "1df6ac3d",
   "metadata": {},
   "outputs": [],
   "source": []
  }
 ],
 "metadata": {
  "kernelspec": {
   "display_name": "Python 3 (ipykernel)",
   "language": "python",
   "name": "python3"
  },
  "language_info": {
   "codemirror_mode": {
    "name": "ipython",
    "version": 3
   },
   "file_extension": ".py",
   "mimetype": "text/x-python",
   "name": "python",
   "nbconvert_exporter": "python",
   "pygments_lexer": "ipython3",
   "version": "3.9.12"
  }
 },
 "nbformat": 4,
 "nbformat_minor": 5
}
