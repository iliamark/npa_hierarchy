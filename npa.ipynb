{
 "cells": [
  {
   "cell_type": "markdown",
   "id": "bc764198",
   "metadata": {},
   "source": [
    "# Imports"
   ]
  },
  {
   "cell_type": "code",
   "execution_count": 1,
   "id": "339e08f2-792f-49c5-a787-dfd24432f3e6",
   "metadata": {},
   "outputs": [],
   "source": [
    "import numpy as np\n",
    "import matplotlib.pyplot as plt\n",
    "import cvxpy as cp\n",
    "from numpy.linalg import matrix_power\n",
    "from classes import distribution"
   ]
  },
  {
   "cell_type": "markdown",
   "id": "b773194e",
   "metadata": {},
   "source": [
    "# Bell Scenario Definition"
   ]
  },
  {
   "cell_type": "code",
   "execution_count": 2,
   "id": "22d71043",
   "metadata": {},
   "outputs": [],
   "source": [
    "N = 2\n",
    "\n",
    "NA = N\n",
    "NB = N\n",
    "NX = N\n",
    "NM = N\n",
    "\n",
    "bell_scenario=(NA,NB,NX,NM)\n",
    "\n",
    "A = np.array(range(NA))\n",
    "X = np.array(range(NX))\n",
    "B = np.array(range(NB))\n",
    "M = np.array(range(NM))"
   ]
  },
  {
   "cell_type": "markdown",
   "id": "e5d40181",
   "metadata": {},
   "source": [
    "# Distribution generator\n",
    "\n",
    "for this particular one, we pick the optimal non-signaling distribution (not a quantum one) for the CHSH game.\n",
    "$$\n",
    "    p(a,b|x,m)= \\frac{1}{2}\\mathbb{1}_{a\\oplus b = x\\cdot m}\n",
    "$$"
   ]
  },
  {
   "cell_type": "code",
   "execution_count": 6,
   "id": "4ef83a44",
   "metadata": {},
   "outputs": [],
   "source": [
    "vals = np.zeros(shape=(NA,NB,NX,NM))\n",
    "for x in X:\n",
    "    for m in M:\n",
    "        for a in A:\n",
    "            for b in B:\n",
    "                lhs = (a+b)%2\n",
    "                rhs = x*m\n",
    "                val = 0.5*(lhs==rhs)\n",
    "                vals[a,b,x,m] = val\n",
    "p = distribution(vals, bell_scenario)"
   ]
  },
  {
   "cell_type": "code",
   "execution_count": 116,
   "id": "179af813",
   "metadata": {},
   "outputs": [],
   "source": [
    "vals = np.zeros(shape=(NA,NB,NX,NM))\n",
    "for x in X:\n",
    "    for m in M:\n",
    "        for a in A:\n",
    "            for b in B:\n",
    "                vals[a,b,x,m] = (a==x)*(b==m)\n",
    "                vals[a,b,x,m] = 0.25\n",
    "p = distribution(vals, bell_scenario)"
   ]
  },
  {
   "cell_type": "markdown",
   "id": "a179efca",
   "metadata": {},
   "source": [
    "For the first step of the NPA hierarchy, the $\\Gamma$ matrix has the following form.\n",
    "$$\\Gamma\\left(\\mathcal{P}\\right)=\\left(\\begin{array}{ccccccccc}\n",
    "\\overset{\\left(\\perp\\right)}{\\overbrace{1}} & \\overset{\\left(a=0,x=0\\right)}{\\overbrace{\\Pr\\left(a|x\\right)}} & \\overset{\\left(a=1,x=0\\right)}{\\overbrace{\\Pr\\left(a|x\\right)}} & \\overset{\\left(a=0,x=1\\right)}{\\overbrace{\\Pr\\left(a|x\\right)}} & \\overset{\\left(a=1,x=1\\right)}{\\overbrace{\\Pr\\left(a|x\\right)}} & \\overset{\\left(b=0,m=0\\right)}{\\overbrace{\\Pr\\left(b|m\\right)}} & \\overset{\\left(b=1,m=0\\right)}{\\overbrace{\\Pr\\left(b|m\\right)}} & \\overset{\\left(b=0,m=1\\right)}{\\overbrace{\\Pr\\left(b|m\\right)}} & \\overset{\\left(b=1,m=1\\right)}{\\overbrace{\\Pr\\left(b|m\\right)}}\\\\\n",
    " & \\Pr\\left(a|x\\right) & 0 & ? & ? & \\Pr\\left(a,b|x,m\\right) & \\Pr\\left(a,b|x,m\\right) & \\Pr\\left(a,b|x,m\\right) & \\Pr\\left(a,b|x,m\\right)\\\\\n",
    " &  & \\Pr\\left(a|x\\right) & ? & ? & \\Pr\\left(a,b|x,m\\right) & \\Pr\\left(a,b|x,m\\right) & \\Pr\\left(a,b|x,m\\right) & \\Pr\\left(a,b|x,m\\right)\\\\\n",
    " &  &  & \\Pr\\left(a|x\\right) & 0 & \\Pr\\left(a,b|x,m\\right) & \\Pr\\left(a,b|x,m\\right) & \\Pr\\left(a,b|x,m\\right) & \\Pr\\left(a,b|x,m\\right)\\\\\n",
    " &  &  &  & \\Pr\\left(a|x\\right) & \\Pr\\left(a,b|x,m\\right) & \\Pr\\left(a,b|x,m\\right) & \\Pr\\left(a,b|x,m\\right) & \\Pr\\left(a,b|x,m\\right)\\\\\n",
    " &  &  &  &  & \\Pr\\left(b|m\\right) & 0 & ? & ?\\\\\n",
    " &  &  &  &  &  & \\Pr\\left(b|m\\right) & ? & ?\\\\\n",
    " &  &  &  &  &  &  & \\Pr\\left(b|m\\right) & 0\\\\\n",
    " &  &  &  &  &  &  &  & \\Pr\\left(b|m\\right)\n",
    "\\end{array}\\right)$$"
   ]
  },
  {
   "cell_type": "code",
   "execution_count": 117,
   "id": "20a23ee7",
   "metadata": {},
   "outputs": [],
   "source": [
    "mu_vec = [cp.Variable() for _ in range(8)]\n",
    "mu_gamma = cp.Variable()"
   ]
  },
  {
   "cell_type": "code",
   "execution_count": 118,
   "id": "d11836e4",
   "metadata": {},
   "outputs": [],
   "source": [
    "Γ = cp.bmat([[1, p.marginal(0,0,0), p.marginal(1,0,0), p.marginal(0,1,0), p.marginal(1,1,0), p.marginal(0,0,0), p.marginal(1,0,0), p.marginal(0,1,0), p.marginal(1,1,0)]\n",
    "            ,[p.marginal(0,0,0), p.marginal(0,0,0), 0, mu_vec[0], mu_vec[1], p(0,0,0,0), p(0,1,0,0), p(0,0,0,1), p(0,1,0,1)]\n",
    "            ,[p.marginal(1,0,0), 0, p.marginal(1,0,0), mu_vec[2], mu_vec[3], p(1,0,0,0), p(1,1,0,0), p(1,0,0,1), p(1,1,0,1)]\n",
    "            ,[p.marginal(0,1,0), mu_vec[0], mu_vec[2], p.marginal(0,1,0), 0, p(0,0,1,0), p(0,1,1,0), p(0,0,1,1), p(0,1,1,1)]\n",
    "            ,[p.marginal(1,1,0), mu_vec[1], mu_vec[3], 0, p.marginal(1,1,0), p.marginal(0,0,0), p.marginal(1,0,0), p.marginal(0,1,0), p.marginal(1,1,0)]\n",
    "            ,[p.marginal(0,0,1), p(0,0,0,0), p(1,0,0,0), p(0,0,1,0), p(1,0,1,0), p.marginal(0,0,1), 0, mu_vec[4], mu_vec[5]]\n",
    "            ,[p.marginal(1,0,1), p(0,1,0,0), p(1,1,0,0), p(0,1,1,0), p(1,1,1,0), 0, p.marginal(1,0,1), mu_vec[6], mu_vec[7]]\n",
    "            ,[p.marginal(0,1,1), p(0,0,0,1), p(1,0,0,1), p(0,0,1,1), p(1,0,1,1), mu_vec[4], mu_vec[6], p.marginal(0,1,1), 0]\n",
    "            ,[p.marginal(1,1,1), p(0,1,0,1), p(1,1,0,1), p(0,1,1,1), p(1,1,1,1), mu_vec[5], mu_vec[7], 0, p.marginal(1,1,1)]  ])\n",
    "Γ.value"
   ]
  },
  {
   "cell_type": "code",
   "execution_count": 119,
   "id": "3f4f4048",
   "metadata": {},
   "outputs": [],
   "source": [
    "constraints = list()\n",
    "# constraints = [mu >= 0 for mu in mu_vec]\n",
    "constraints += [Γ >> mu_gamma, Γ == Γ.T]"
   ]
  },
  {
   "cell_type": "code",
   "execution_count": 120,
   "id": "bc1651fd",
   "metadata": {},
   "outputs": [
    {
     "data": {
      "text/plain": [
       "-inf"
      ]
     },
     "execution_count": 120,
     "metadata": {},
     "output_type": "execute_result"
    }
   ],
   "source": [
    "objective = cp.Maximize(mu_gamma)\n",
    "problem = cp.Problem(objective, constraints)\n",
    "problem.solve()\n"
   ]
  },
  {
   "cell_type": "code",
   "execution_count": 21,
   "id": "d1adbe33",
   "metadata": {},
   "outputs": [],
   "source": [
    "zero = np.array([[1,0]])\n",
    "zero = zero.transpose() @ zero\n",
    "\n",
    "plus = (2**(-0.5))*np.array([[1,1]])\n",
    "plus = plus.transpose() @ plus\n",
    "\n",
    "\n",
    "Π1 = cp.bmat([[1,0],[0,0]])\n",
    "Π2 = cp.bmat([[1,0],[0,0]])\n",
    "ρ = cp.Variable((2,2), symmetric=True)\n",
    "objective = cp.Maximize(cp.trace(ρ @ Π))\n",
    "constraints = [ρ >> 0, ρ << 1]"
   ]
  },
  {
   "cell_type": "code",
   "execution_count": 14,
   "id": "56abe144",
   "metadata": {},
   "outputs": [
    {
     "data": {
      "text/plain": [
       "0.9999997833762444"
      ]
     },
     "execution_count": 14,
     "metadata": {},
     "output_type": "execute_result"
    }
   ],
   "source": [
    "problem = cp.Problem(objective, constraints)\n",
    "problem.solve()"
   ]
  },
  {
   "cell_type": "code",
   "execution_count": 77,
   "id": "14249752",
   "metadata": {},
   "outputs": [
    {
     "data": {
      "text/plain": [
       "0.8535530361400055"
      ]
     },
     "execution_count": 77,
     "metadata": {},
     "output_type": "execute_result"
    }
   ],
   "source": [
    "id = sigma_z @ sigma_z\n",
    "sigma_z = np.array([[1,0],[0,-1]])\n",
    "sigma_x = np.array([[0,1],[1,0]])\n",
    "\n",
    "sigma_plus = (sigma_z + sigma_x) / (2**0.5)\n",
    "sigma_minus = (sigma_z - sigma_x) / (2**0.5)\n",
    "\n",
    "S = np.kron(sigma_z, sigma_plus)\n",
    "S += np.kron(sigma_x, sigma_plus)\n",
    "S += np.kron(sigma_z, sigma_minus)\n",
    "S += -np.kron(sigma_x, sigma_minus)\n",
    "S /= 8\n",
    "S += np.kron(id, id) / 2\n",
    "\n",
    "rho = cp.Variable((4,4), symmetric=True)\n",
    "objective = cp.Maximize(cp.trace(rho @ S))\n",
    "constraints = [rho >> 0, cp.trace(rho) <= 1]\n",
    "\n",
    "problem = cp.Problem(objective, constraints)\n",
    "problem.solve()"
   ]
  },
  {
   "cell_type": "code",
   "execution_count": 84,
   "id": "c10be61a",
   "metadata": {},
   "outputs": [
    {
     "data": {
      "text/plain": [
       "0.8535530361400002"
      ]
     },
     "execution_count": 84,
     "metadata": {},
     "output_type": "execute_result"
    }
   ],
   "source": [
    "id = sigma_z @ sigma_z\n",
    "sigma_z = np.array([[1,0],[0,-1]])\n",
    "sigma_x = np.array([[0,1],[1,0]])\n",
    "\n",
    "sigma_plus = (sigma_z + sigma_x) / (2**0.5)\n",
    "sigma_minus = (sigma_z - sigma_x) / (2**0.5)\n",
    "\n",
    "S = np.kron(sigma_z, sigma_plus)\n",
    "S += np.kron(sigma_x, sigma_plus)\n",
    "S += np.kron(sigma_z, sigma_minus)\n",
    "S += -np.kron(sigma_x, sigma_minus)\n",
    "S /= 8\n",
    "S += np.kron(id, id) / 2\n",
    "\n",
    "gamma = [[cp.Variable() for _ in range(4)] for __ in range(4)]\n",
    "Gamma = cp.bmat([[gamma[0][0], gamma[0][1], gamma[0][2], gamma[0][3]],\n",
    "                 [gamma[0][1], gamma[1][1], gamma[1][2], gamma[1][3]],\n",
    "                 [gamma[0][2], gamma[1][2], gamma[2][2], gamma[2][3]],\n",
    "                 [gamma[0][3], gamma[1][3], gamma[2][3], gamma[3][3]]])\n",
    "\n",
    "objective = cp.Maximize(cp.trace(Gamma @ S))\n",
    "constraints = [Gamma >> 0, cp.trace(Gamma) <= 1, Gamma == Gamma.T]\n",
    "\n",
    "problem = cp.Problem(objective, constraints)\n",
    "problem.solve()"
   ]
  },
  {
   "cell_type": "code",
   "execution_count": 112,
   "id": "8ef12272",
   "metadata": {},
   "outputs": [],
   "source": [
    "gammas = [[cp.Variable() for _ in range(4)] for _ in range(4)]"
   ]
  },
  {
   "cell_type": "code",
   "execution_count": 113,
   "id": "3149691a",
   "metadata": {},
   "outputs": [
    {
     "data": {
      "text/plain": [
       "[[Variable(()), Variable(()), Variable(()), Variable(())],\n",
       " [Variable(()), Variable(()), Variable(()), Variable(())],\n",
       " [Variable(()), Variable(()), Variable(()), Variable(())],\n",
       " [Variable(()), Variable(()), Variable(()), Variable(())]]"
      ]
     },
     "execution_count": 113,
     "metadata": {},
     "output_type": "execute_result"
    }
   ],
   "source": [
    "gammas"
   ]
  },
  {
   "cell_type": "code",
   "execution_count": null,
   "id": "29ebcb17",
   "metadata": {},
   "outputs": [],
   "source": []
  },
  {
   "cell_type": "code",
   "execution_count": null,
   "id": "fdd0e68e",
   "metadata": {},
   "outputs": [],
   "source": []
  }
 ],
 "metadata": {
  "kernelspec": {
   "display_name": "Python 3 (ipykernel)",
   "language": "python",
   "name": "python3"
  },
  "language_info": {
   "codemirror_mode": {
    "name": "ipython",
    "version": 3
   },
   "file_extension": ".py",
   "mimetype": "text/x-python",
   "name": "python",
   "nbconvert_exporter": "python",
   "pygments_lexer": "ipython3",
   "version": "3.9.12"
  }
 },
 "nbformat": 4,
 "nbformat_minor": 5
}
